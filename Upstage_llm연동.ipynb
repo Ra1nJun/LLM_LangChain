{
 "cells": [
  {
   "cell_type": "code",
   "execution_count": 1,
   "id": "be929271",
   "metadata": {},
   "outputs": [
    {
     "name": "stdout",
     "output_type": "stream",
     "text": [
      "up\n"
     ]
    }
   ],
   "source": [
    "import os\n",
    "from dotenv import load_dotenv\n",
    "\n",
    "load_dotenv()\n",
    "UPSTAGE_API_KEY = os.getenv(\"UPSTAGE_API_KEY\")\n",
    "print(UPSTAGE_API_KEY[:2])"
   ]
  },
  {
   "cell_type": "code",
   "execution_count": 2,
   "id": "a3ed8aa0",
   "metadata": {},
   "outputs": [
    {
     "name": "stdout",
     "output_type": "stream",
     "text": [
      "<class 'langchain_core.messages.ai.AIMessage'>\n",
      "LangChain은 자연어 처리(NLP)를 위해 설계된 Python 라이브러리로, 대화형 AI 시스템을 구축하고 연결하는 데 도움을 줍니다. 이 라이브러리는 여러 NLP 작업을 체인으로 연결하여 복잡한 AI 대화를 만들 수 있는 유연한 프레임워크를 제공합니다. 주요 기능으로는 문장 분류, 개체 인식, 감정 분석 등이 있으며, 다양한 기존 NLP 도구와 통합할 수 있습니다. \n",
      "\n"
     ]
    }
   ],
   "source": [
    "from langchain_upstage import ChatUpstage\n",
    "\n",
    "llm = ChatUpstage(\n",
    "        model=\"solar-pro\",\n",
    "        base_url=\"https://api.upstage.ai/v1\",\n",
    "        temperature=0.5\n",
    "    )\n",
    "    \n",
    "ai_message=llm.invoke(\"LangChain은 무엇인가요?\")\n",
    "print(type(ai_message))\n",
    "print(ai_message.content)"
   ]
  }
 ],
 "metadata": {
  "kernelspec": {
   "display_name": "langchain-basic-kGdHTiMZ-py3.12",
   "language": "python",
   "name": "python3"
  },
  "language_info": {
   "codemirror_mode": {
    "name": "ipython",
    "version": 3
   },
   "file_extension": ".py",
   "mimetype": "text/x-python",
   "name": "python",
   "nbconvert_exporter": "python",
   "pygments_lexer": "ipython3",
   "version": "3.12.7"
  }
 },
 "nbformat": 4,
 "nbformat_minor": 5
}
