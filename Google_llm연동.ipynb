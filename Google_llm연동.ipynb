{
 "cells": [
  {
   "cell_type": "code",
   "execution_count": 1,
   "id": "be929271",
   "metadata": {},
   "outputs": [
    {
     "name": "stdout",
     "output_type": "stream",
     "text": [
      "AI\n"
     ]
    }
   ],
   "source": [
    "import os\n",
    "from dotenv import load_dotenv\n",
    "\n",
    "load_dotenv()\n",
    "GOOGLE_API_KEY = os.getenv(\"GOOGLE_API_KEY\")\n",
    "print(GOOGLE_API_KEY[:2])"
   ]
  },
  {
   "cell_type": "code",
   "execution_count": 2,
   "id": "a3ed8aa0",
   "metadata": {},
   "outputs": [
    {
     "name": "stdout",
     "output_type": "stream",
     "text": [
      " Google Gemini Response:\n",
      "LangChain은 대규모 언어 모델(LLM)을 응용 프로그램에 통합하기 위한 프레임워크입니다.  단순히 LLM을 호출하는 것 이상으로,  다양한 기능을 제공하여 LLM 기반 애플리케이션 개발을 더욱 효율적이고 강력하게 만들어줍니다.  핵심 기능은 다음과 같습니다.\n",
      "\n",
      "* **모듈화:** LangChain은 LLM, 프로세스, 메모리 등을 모듈로 분리하여 개발 및 유지보수를 용이하게 합니다.  다양한 LLM(OpenAI, Hugging Face 등)과 다른 구성 요소를 쉽게 교체하고 통합할 수 있습니다.\n",
      "\n",
      "* **체인(Chains):** 여러 구성 요소를 연결하여 복잡한 작업을 수행할 수 있도록 합니다. 예를 들어, 사용자 질문을 받아 LLM로 질문을 분석하고, 관련 문서를 검색하고, 문서를 요약하여 답변을 생성하는 체인을 만들 수 있습니다.  이러한 체인은 순차적, 병렬적, 또는 더 복잡한 방식으로 구성될 수 있습니다.\n",
      "\n",
      "* **인덱싱 및 검색:**  LLM이 외부 데이터 소스(문서, 데이터베이스 등)를 활용할 수 있도록 인덱싱 및 검색 기능을 제공합니다.  LLM이 특정 정보에 접근하고 그 정보를 기반으로 응답을 생성할 수 있게 해줍니다.\n",
      "\n",
      "* **메모리:**  대화형 애플리케이션에서 이전 대화 내용을 기억하고 활용할 수 있도록 메모리 기능을 제공합니다.  이를 통해 더욱 자연스럽고 일관성 있는 대화를 가능하게 합니다.\n",
      "\n",
      "* **에이전트(Agents):**  LLM이 외부 도구(검색 엔진, 계산기 등)를 호출하여 작업을 수행할 수 있도록 합니다.  LLM이 스스로 필요한 도구를 선택하고 사용하여 문제를 해결할 수 있게 해줍니다.\n",
      "\n",
      "* **다양한 LLM 및 데이터 소스 지원:**  OpenAI, Hugging Face 등 다양한 LLM과 여러 데이터 소스를 지원하여 유연성을 높입니다.\n",
      "\n",
      "\n",
      "**LangChain의 장점:**\n",
      "\n",
      "* **개발 속도 향상:**  모듈화된 구성 요소와 다양한 기능을 통해 LLM 기반 애플리케이션 개발 속도를 크게 향상시킵니다.\n",
      "* **유지보수 용이성:**  모듈화된 설계로 코드 유지보수가 용이합니다.\n",
      "* **확장성:**  다양한 LLM과 데이터 소스를 지원하여 확장성이 높습니다.\n",
      "* **재사용성:**  구성 요소를 재사용하여 다양한 애플리케이션을 개발할 수 있습니다.\n",
      "\n",
      "\n",
      "**LangChain의 단점:**\n",
      "\n",
      "* **복잡성:**  다양한 기능과 구성 요소로 인해 초보자에게는 다소 복잡하게 느껴질 수 있습니다.\n",
      "* **학습 곡선:**  LangChain을 효과적으로 사용하려면 특정 수준의 프로그래밍 지식이 필요합니다.\n",
      "\n",
      "\n",
      "결론적으로, LangChain은 LLM을 활용한 애플리케이션 개발을 위한 강력하고 유연한 프레임워크입니다.  복잡한 애플리케이션을 효율적으로 구축하고자 하는 개발자에게 유용한 도구입니다.  하지만,  초보자는 다소 높은 학습 곡선을 극복해야 할 수 있습니다.\n"
     ]
    }
   ],
   "source": [
    "from langchain_google_genai import ChatGoogleGenerativeAI\n",
    "from langchain_core.prompts import ChatPromptTemplate\n",
    "\n",
    "# 모델 초기화\n",
    "llm = ChatGoogleGenerativeAI(\n",
    "    model=\"gemini-1.5-flash\",  # 또는 \"gemini-pro-vision\"\n",
    "    temperature=0.3    \n",
    ")\n",
    "\n",
    "# 프롬프트 설정\n",
    "prompt = ChatPromptTemplate.from_messages([\n",
    "    (\"system\", \"당신은 AI 전문가입니다다.\"),\n",
    "    (\"human\", \"{topic}은 무엇인가요?\")\n",
    "])\n",
    "\n",
    "# 체인 실행\n",
    "chain = prompt | llm\n",
    "response = chain.invoke({\"topic\": \"LangChain\"})\n",
    "\n",
    "print(\" Google Gemini Response:\")\n",
    "print(response.content)"
   ]
  }
 ],
 "metadata": {
  "kernelspec": {
   "display_name": "langchain-basic-kGdHTiMZ-py3.12",
   "language": "python",
   "name": "python3"
  },
  "language_info": {
   "codemirror_mode": {
    "name": "ipython",
    "version": 3
   },
   "file_extension": ".py",
   "mimetype": "text/x-python",
   "name": "python",
   "nbconvert_exporter": "python",
   "pygments_lexer": "ipython3",
   "version": "3.12.7"
  }
 },
 "nbformat": 4,
 "nbformat_minor": 5
}
