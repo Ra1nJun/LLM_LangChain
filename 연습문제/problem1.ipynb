{
 "cells": [
  {
   "cell_type": "markdown",
   "id": "f8364e40",
   "metadata": {},
   "source": [
    "### 문제 1-1: 기본 체인 만들기 - AI 요리사"
   ]
  },
  {
   "cell_type": "code",
   "execution_count": null,
   "id": "216a401e",
   "metadata": {
    "vscode": {
     "languageId": "plaintext"
    }
   },
   "outputs": [],
   "source": []
  }
 ],
 "metadata": {
  "language_info": {
   "name": "python"
  }
 },
 "nbformat": 4,
 "nbformat_minor": 5
}
