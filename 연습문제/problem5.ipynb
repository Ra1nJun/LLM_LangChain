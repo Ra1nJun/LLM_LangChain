{
 "cells": [
  {
   "cell_type": "markdown",
   "id": "497594ef",
   "metadata": {},
   "source": [
    "### 문제 5-1 : 카페 메뉴 도구(Tool) 호출 체인 구현"
   ]
  },
  {
   "cell_type": "code",
   "execution_count": 1,
   "id": "0b39725a",
   "metadata": {},
   "outputs": [
    {
     "name": "stdout",
     "output_type": "stream",
     "text": [
      "sk\n"
     ]
    }
   ],
   "source": [
    "import os\n",
    "from dotenv import load_dotenv\n",
    "\n",
    "load_dotenv()\n",
    "OPENAI_API_KEY = os.getenv(\"OPENAI_API_KEY\")\n",
    "print(OPENAI_API_KEY[:2])"
   ]
  },
  {
   "cell_type": "code",
   "execution_count": 2,
   "id": "94584641",
   "metadata": {},
   "outputs": [],
   "source": [
    "import re\n",
    "import os, json\n",
    "\n",
    "from textwrap import dedent\n",
    "from pprint import pprint\n",
    "\n",
    "import warnings\n",
    "warnings.filterwarnings(\"ignore\")"
   ]
  },
  {
   "cell_type": "code",
   "execution_count": null,
   "id": "42d865b6",
   "metadata": {},
   "outputs": [],
   "source": [
    "from langchain_openai import ChatOpenAI\n",
    "from langchain_community.tools import TavilySearchResults\n",
    "from langchain_community.utilities import WikipediaAPIWrapper\n",
    "from langchain_core.prompts import ChatPromptTemplate, MessagesPlaceholder\n",
    "from langchain_core.runnables import RunnableConfig, chain\n",
    "from langchain_core.tools import tool\n",
    "from langchain.document_loaders import TextLoader\n",
    "from langchain_core.documents import Document\n",
    "from langchain_community.embeddings import OllamaEmbeddings\n",
    "from langchain_community.vectorstores import FAISS\n",
    "from typing import List\n",
    "from langchain.agents import AgentExecutor, create_tool_calling_agent"
   ]
  },
  {
   "cell_type": "markdown",
   "id": "6e999305",
   "metadata": {},
   "source": [
    "### 1. 카페 메뉴 데이터 파일 생성 및 벡터 DB 구축"
   ]
  },
  {
   "cell_type": "code",
   "execution_count": 4,
   "id": "012ef726",
   "metadata": {},
   "outputs": [
    {
     "name": "stdout",
     "output_type": "stream",
     "text": [
      "총 10개의 메뉴 항목이 처리되었습니다.\n",
      "<class 'langchain_core.documents.base.Document'>\n",
      "{'id': None,\n",
      " 'metadata': {'menu_name': '아메리카노',\n",
      "              'menu_number': 1,\n",
      "              'source': '../data/cafe_menu_data.txt'},\n",
      " 'page_content': '1. 아메리카노\\n'\n",
      "                 '   • 가격: ₩4,500\\n'\n",
      "                 '   • 주요 원료: 에스프레소, 뜨거운 물\\n'\n",
      "                 '   • 설명: 진한 에스프레소에 뜨거운 물을 더해 만든 클래식한 블랙 커피입니다. 원두 본연의 맛을 가장 '\n",
      "                 '잘 느낄 수 있으며, 깔끔하고 깊은 풍미가 특징입니다. 설탕이나 시럽 추가 가능합니다.',\n",
      " 'type': 'Document'}\n",
      "\n",
      "메뉴 번호: 1\n",
      "메뉴 이름: 아메리카노\n",
      "내용:\n",
      "1. 아메리카노\n",
      "   • 가격: ₩4,500\n",
      "   • 주요 원료: 에스프레소, 뜨거운 물\n",
      "   • 설명: 진한 에스프레소에 뜨거운 물을 더해 만든 클래식한 블랙 커피입니다. 원두 ...\n",
      "<class 'langchain_core.documents.base.Document'>\n",
      "{'id': None,\n",
      " 'metadata': {'menu_name': '카페라떼',\n",
      "              'menu_number': 2,\n",
      "              'source': '../data/cafe_menu_data.txt'},\n",
      " 'page_content': '2. 카페라떼\\n'\n",
      "                 '   • 가격: ₩5,500\\n'\n",
      "                 '   • 주요 원료: 에스프레소, 스팀 밀크\\n'\n",
      "                 '   • 설명: 진한 에스프레소에 부드럽게 스팀한 우유를 넣어 만든 대표적인 밀크 커피입니다. 크리미한 '\n",
      "                 '질감과 부드러운 맛이 특징이며, 다양한 시럽과 토핑 추가가 가능합니다. 라떼 아트로 시각적 즐거움도 '\n",
      "                 '제공합니다.',\n",
      " 'type': 'Document'}\n",
      "\n",
      "메뉴 번호: 2\n",
      "메뉴 이름: 카페라떼\n",
      "내용:\n",
      "2. 카페라떼\n",
      "   • 가격: ₩5,500\n",
      "   • 주요 원료: 에스프레소, 스팀 밀크\n",
      "   • 설명: 진한 에스프레소에 부드럽게 스팀한 우유를 넣어 만든 대표적인 밀크 커피입니다...\n"
     ]
    },
    {
     "name": "stderr",
     "output_type": "stream",
     "text": [
      "C:\\Users\\user\\AppData\\Local\\Temp\\ipykernel_11376\\834239392.py:47: LangChainDeprecationWarning: The class `OllamaEmbeddings` was deprecated in LangChain 0.3.1 and will be removed in 1.0.0. An updated version of the class exists in the :class:`~langchain-ollama package and should be used instead. To use it run `pip install -U :class:`~langchain-ollama` and import as `from :class:`~langchain_ollama import OllamaEmbeddings``.\n",
      "  embeddings_model = OllamaEmbeddings(model=\"bge-m3:latest\")\n"
     ]
    }
   ],
   "source": [
    "# 메뉴판 텍스트 데이터를 로드\n",
    "loader = TextLoader(\"../data/cafe_menu_data.txt\", encoding=\"utf-8\")\n",
    "documents = loader.load()\n",
    "\n",
    "def split_menu_items(document):\n",
    "    \"\"\"\n",
    "    메뉴 항목을 분리하는 함수 \n",
    "    \"\"\"\n",
    "    # 정규표현식 정의 \n",
    "    pattern = r'(\\d+\\.\\s.*?)(?=\\n\\n\\d+\\.|$)'\n",
    "    menu_items = re.findall(pattern, document.page_content, re.DOTALL)\n",
    "    \n",
    "    # 각 메뉴 항목을 Document 객체로 변환\n",
    "    menu_documents = []\n",
    "    for i, item in enumerate(menu_items, 1):\n",
    "        # 메뉴 이름 추출\n",
    "        menu_name = item.split('\\n')[0].split('.', 1)[1].strip()\n",
    "        \n",
    "        # 새로운 Document 객체 생성\n",
    "        menu_doc = Document(\n",
    "            page_content=item.strip(),\n",
    "            metadata={\n",
    "                \"source\": document.metadata['source'],\n",
    "                \"menu_number\": i,\n",
    "                \"menu_name\": menu_name\n",
    "            }\n",
    "        )\n",
    "        menu_documents.append(menu_doc)\n",
    "    \n",
    "    return menu_documents\n",
    "\n",
    "\n",
    "# 메뉴 항목 분리 실행\n",
    "menu_documents = [] # [Document, Document]\n",
    "for doc in documents:\n",
    "    menu_documents += split_menu_items(doc)\n",
    "\n",
    "# 결과 출력\n",
    "print(f\"총 {len(menu_documents)}개의 메뉴 항목이 처리되었습니다.\")\n",
    "for doc in menu_documents[:2]:\n",
    "    print(type(doc))\n",
    "    pprint(vars(doc))\n",
    "    print(f\"\\n메뉴 번호: {doc.metadata['menu_number']}\")\n",
    "    print(f\"메뉴 이름: {doc.metadata['menu_name']}\")\n",
    "    print(f\"내용:\\n{doc.page_content[:100]}...\")\n",
    "\n",
    "embeddings_model = OllamaEmbeddings(model=\"bge-m3:latest\")\n",
    "\n",
    "# FAISS 인덱스 생성\n",
    "cafe_db = FAISS.from_documents(\n",
    "    documents=menu_documents, \n",
    "    embedding=embeddings_model\n",
    ")\n",
    "\n",
    "cafe_db.save_local(\"../db/cafe_db\")\n",
    "\n",
    "cafe_retriever = cafe_db.as_retriever(\n",
    "    search_kwargs={'k': 4},\n",
    ")"
   ]
  },
  {
   "cell_type": "markdown",
   "id": "a7f532ff",
   "metadata": {},
   "source": [
    "### 2. 3개의 도구를 정의하고 LLM에 바인딩"
   ]
  },
  {
   "cell_type": "code",
   "execution_count": 5,
   "id": "d7db79d6",
   "metadata": {},
   "outputs": [],
   "source": [
    "@tool\n",
    "def tavily_search_func(query: str) -> str:\n",
    "    \"\"\"Searches the internet for information that does not exist in the database or for the latest information.\"\"\"\n",
    "\n",
    "    tavily_search = TavilySearchResults(max_results=2)\n",
    "    docs = tavily_search.invoke(query)\n",
    "\n",
    "    formatted_docs = \"\\n---\\n\".join([\n",
    "        f'<Document href=\"{doc[\"url\"]}\"/>\\n{doc[\"content\"]}\\n</Document>'\n",
    "        for doc in docs\n",
    "        ])\n",
    "\n",
    "    if len(formatted_docs) > 0:\n",
    "        return formatted_docs\n",
    "    \n",
    "    return \"관련 정보를 찾을 수 없습니다.\""
   ]
  },
  {
   "cell_type": "code",
   "execution_count": 6,
   "id": "21a48ba9",
   "metadata": {},
   "outputs": [],
   "source": [
    "@tool\n",
    "def wiki_summary(query: str) -> str:\n",
    "    \"\"\"Search Wikipedia documents based on user input (query) and return k documents.\"\"\"\n",
    "    wiki = WikipediaAPIWrapper(lang=\"ko\")\n",
    "    result = wiki.run(query)\n",
    "    if result:\n",
    "        return result\n",
    "    return \"관련 위키피디아 정보를 찾을 수 없습니다.\""
   ]
  },
  {
   "cell_type": "code",
   "execution_count": 7,
   "id": "5ec4a224",
   "metadata": {},
   "outputs": [],
   "source": [
    "cafe_db = FAISS.load_local(\n",
    "    \"../db/cafe_db\", \n",
    "    embeddings_model, \n",
    "    allow_dangerous_deserialization=True\n",
    ")\n",
    "\n",
    "@tool\n",
    "def db_search_menu_func(query: str) -> List[Document]:\n",
    "    \"\"\"\n",
    "    Securely retrieve and access authorized cafe menu information from the encrypted database.\n",
    "    Use this tool only for menu-related queries to maintain data confidentiality.\n",
    "    \"\"\"\n",
    "    docs = cafe_db.similarity_search(query, k=4)\n",
    "    if len(docs) > 0:\n",
    "        return docs\n",
    "    \n",
    "    return [Document(page_content=\"관련 커피 메뉴 정보를 찾을 수 없습니다.\")]"
   ]
  },
  {
   "cell_type": "code",
   "execution_count": 8,
   "id": "87e75574",
   "metadata": {},
   "outputs": [],
   "source": [
    "prompt = ChatPromptTemplate.from_messages([\n",
    "    (\"system\", \"\"\"You are an AI assistant providing cafe menu information and general coffee-related knowledge.\n",
    "        For information about the cafe's menu, use the db_search_menu_func tool.\n",
    "        For other general information, use the wiki_summary tool.\n",
    "        If additional web searches are needed or for the most up-to-date information, use the tavily_search_func tool.\n",
    "        \"\"\"),\n",
    "    (\"human\", \"{user_input}\"),\n",
    "    (\"placeholder\", \"{messages}\"),\n",
    "])\n",
    "\n",
    "llm = ChatOpenAI(model=\"gpt-4o\")\n",
    "# llm = ChatOpenAI(\n",
    "#     base_url=\"https://api.groq.com/openai/v1\",\n",
    "#     model=\"meta-llama/llama-4-scout-17b-16e-instruct\",\n",
    "#     temperature=0.3,\n",
    "#     api_key=OPENAI_API_KEY\n",
    "# )\n",
    "\n",
    "tools = [tavily_search_func, wiki_summary, db_search_menu_func]\n",
    "llm_with_tools = llm.bind_tools(tools)\n",
    "\n",
    "llm_chain = prompt | llm_with_tools"
   ]
  },
  {
   "cell_type": "markdown",
   "id": "8991357f",
   "metadata": {},
   "source": [
    "### 3. 간단한 도구 호출 체인 구현체인 구조"
   ]
  },
  {
   "cell_type": "code",
   "execution_count": 22,
   "id": "223d24a9",
   "metadata": {},
   "outputs": [],
   "source": [
    "@chain\n",
    "def cafe_tool_chain(user_input: str, config: RunnableConfig):\n",
    "    input_ = {\"user_input\": user_input}\n",
    "    ai_msg = llm_chain.invoke(input_, config=config)\n",
    "\n",
    "    tool_msgs = []\n",
    "    for tool_call in ai_msg.tool_calls:\n",
    "        pprint(f\"{tool_call['name']}: \\n{tool_call}\")\n",
    "        print(\"%\"*100)\n",
    "\n",
    "        if tool_call[\"name\"] == \"tavily_search_func\":\n",
    "            tool_message = tavily_search_func.invoke(tool_call, config=config)\n",
    "            tool_msgs.append(tool_message)\n",
    "\n",
    "        elif tool_call[\"name\"] == \"wiki_summary\":\n",
    "            tool_message = wiki_summary.invoke(tool_call, config=config)\n",
    "            tool_msgs.append(tool_message)\n",
    "\n",
    "        elif tool_call[\"name\"] == \"db_search_menu_func\":\n",
    "            tool_message = db_search_menu_func.invoke(tool_call, config=config)\n",
    "            tool_msgs.append(tool_message)\n",
    "        \n",
    "    print(\"tool_msgs: \\n\") \n",
    "    for tool in tool_msgs:\n",
    "        pprint(tool.name)\n",
    "    print(\"-\"*100)\n",
    "    return llm_chain.invoke({**input_, \"messages\": [ai_msg, *tool_msgs]}, config=config)"
   ]
  },
  {
   "cell_type": "markdown",
   "id": "280b4164",
   "metadata": {},
   "source": [
    "### 4. 테스트 질문 처리"
   ]
  },
  {
   "cell_type": "code",
   "execution_count": 24,
   "id": "a7c87d50",
   "metadata": {},
   "outputs": [
    {
     "name": "stdout",
     "output_type": "stream",
     "text": [
      "('db_search_menu_func: \\n'\n",
      " \"{'name': 'db_search_menu_func', 'args': {'query': '아메리카노 가격'}, 'id': \"\n",
      " \"'call_M38CqwYJ29DrmlAD4Bbk8HPW', 'type': 'tool_call'}\")\n",
      "%%%%%%%%%%%%%%%%%%%%%%%%%%%%%%%%%%%%%%%%%%%%%%%%%%%%%%%%%%%%%%%%%%%%%%%%%%%%%%%%%%%%%%%%%%%%%%%%%%%%\n",
      "('wiki_summary: \\n'\n",
      " \"{'name': 'wiki_summary', 'args': {'query': '아메리카노 특징'}, 'id': \"\n",
      " \"'call_XJK6cjjZxM0qaXmLNZj8S4cw', 'type': 'tool_call'}\")\n",
      "%%%%%%%%%%%%%%%%%%%%%%%%%%%%%%%%%%%%%%%%%%%%%%%%%%%%%%%%%%%%%%%%%%%%%%%%%%%%%%%%%%%%%%%%%%%%%%%%%%%%\n",
      "tool_msgs: \n",
      "\n",
      "'db_search_menu_func'\n",
      "'wiki_summary'\n",
      "----------------------------------------------------------------------------------------------------\n",
      "아메리카노의 가격은 4,500원입니다.\n",
      "\n",
      "#### 아메리카노의 특징:\n",
      "아메리카노는 에스프레소를 뜨거운 물로 희석하여 만드는 커피 음료 중 하나입니다. 드립 커피와 비슷하지만, 풍미는 다릅니다. 에스프레소의 '샷' 수와 더해지는 물의 양에 따라 농도가 달라집니다. 이탈리아어로 \"caffè americano\"를 번역하면 \"American coffee\"이지만, 영어권에서는 이 이탈리아어 표현 그대로 사용되며, '넓은' 미국 스타일의 커피라는 의미를 내포합니다. 아메리카노는 진한 커피의 맛을 가장 잘 느낄 수 있으며, 깔끔하고 깊은 풍미가 특징입니다.\n"
     ]
    }
   ],
   "source": [
    "# 테스트 예시\n",
    "query = \"아메리카노의 가격과 특징은 무엇인가요?\"\n",
    "response = cafe_tool_chain.invoke(query)\n",
    "print(response.content)"
   ]
  },
  {
   "cell_type": "markdown",
   "id": "fec153b4",
   "metadata": {},
   "source": [
    "### 문제 5-2 : Few-shot 프롬프팅을 활용한 카페 AI 어시스턴트"
   ]
  },
  {
   "cell_type": "markdown",
   "id": "a1f8ff7e",
   "metadata": {},
   "source": [
    "### 1. Few-shot 예제를 포함한 프롬프트 템플릿 작성"
   ]
  },
  {
   "cell_type": "code",
   "execution_count": 15,
   "id": "f6d969aa",
   "metadata": {},
   "outputs": [],
   "source": [
    "from langchain_core.messages import AIMessage, HumanMessage, ToolMessage\n",
    "\n",
    "examples = [\n",
    "    HumanMessage(\"카푸치노의 가격과 특징, 유래에 대해 알려주세요.\", name=\"example_user\"),\n",
    "    AIMessage(\"커피 정보를 검색하고, 위키피디아에서 추가 정보를 찾아보겠습니다.\", name=\"example_assistant\"),\n",
    "    AIMessage(\"\", name=\"example_assistant\", tool_calls=[{\"name\": \"db_search_menu_func\", \"args\": {\"query\": \"트러플 리조또\"}, \"id\": \"1\"}]),\n",
    "    ToolMessage(\"카푸치노: 가격 ₩5,000, 에스프레소, 스팀 밀크, 우유 거품 사용, 에스프레소, 스팀 밀크, 우유 거품이 1:1:1 비율로 구성된 이탈리아 전통 커피입니다. 진한 커피 맛과 부드러운 우유 거품의 조화가 일품이며, 계피 파우더를 뿌려 제공합니다.\", tool_call_id=\"1\"),    \n",
    "    AIMessage(\"카푸치노의 가격은 ₩5,000이며, 에스프레소, 스팀 밀크, 우유 거품가 1:1:1 비율로 구성된 이탈리아 전통 커피입니다. 진한 커피 맛과 부드러운 우유 거품의 조화가 일품이며, 계피 파우더를 뿌려 제공합니다. 이제 추가 정보를 위키피디아에서 찾아보겠습니다.\", name=\"example_assistant\"),\n",
    "    AIMessage(\"\", name=\"example_assistant\", tool_calls=[{\"name\": \"wiki_summary\", \"args\": {\"query\": \"카푸치노\", \"k\": 1}, \"id\": \"2\"}]),\n",
    "    ToolMessage(\"카푸치노(이탈리아어: cappuccino, 문화어: 까뿌치노)는 에스프레소 기반의 커피 음료로, 전통적으로 스팀 우유와 함께 제조된다. 우유 대신 크림을 사용하거나 위에 계피 가루를 뿌려 먹기도 한다. 카페 라테에 비해 우유의 양이 적고 거품의 양이 많다.\", tool_call_id=\"2\"),\n",
    "    AIMessage(\"카푸치노의 특징에 대해 알아보았습니다. 이제 카푸치노의 유래를 검색해보겠습니다.\", name=\"example_assistant\"),\n",
    "    AIMessage(\"\", name=\"example_assistant\", tool_calls=[{\"name\": \"db_search_wine_func\", \"args\": {\"query\": \"카푸치노의 유래\"}, \"id\": \"3\"}]),\n",
    "    ToolMessage(\"카푸치노(Capuccino)는 우유를 섞은 커피에 계핏가루를 뿌린 이탈리아식 커피를 말합니다. 카푸치노의 어원은 후드 (Hood)란 뜻을 지닌 이탈리아어 'cappucio'에서 비롯됐습니다. \\\n",
    "                이탈리아에서는 후드가 달린 갈색의 수도복을 입은 수도사를 종종 볼 수 있는데, 그들이 갈색 수도복 위에 하얀 허리끈 등을 두른 것이 마치 커피와 우유가 섞인 카푸치노의 모습과 비슷하다 하여 카푸치노의 어원이 됐습니다.\", tool_call_id=\"3\"),\n",
    "    AIMessage(\"카푸치노(₩5,000)는 에스프레소, 스팀 밀크, 우유 거품가 1:1:1 비율로 구성된 이탈리아 전통 커피입니다. \\\n",
    "                카푸치노의 어원은 후드(Hood)란 뜻을 지닌 이탈리아어 'cappucio'에서 비롯됐습니다. \\\n",
    "                이탈리아에의 수도사가 입는 후드가 달린 갈색의 수도복 위에 하얀 허리끈을 두른 것이 마치 커피와 우유가 섞인 카푸치노의 모습과 비슷하다 하여 카푸치노의 어원이 됐습니다.\", name=\"example_assistant\"),\n",
    "]"
   ]
  },
  {
   "cell_type": "markdown",
   "id": "b0ee2e3d",
   "metadata": {},
   "source": [
    "### 2. 각 도구의 용도를 명확히 구분하는 시스템 메시지 작성"
   ]
  },
  {
   "cell_type": "code",
   "execution_count": 18,
   "id": "a9a5db27",
   "metadata": {},
   "outputs": [],
   "source": [
    "system = \"\"\"You are an AI assistant providing cafe menu information and general food/drink-related knowledge.\n",
    "For information about the cafe's menu, use the db_search_menu_func tool.\n",
    "For other general information, use the wiki_summary tool.\n",
    "If additional web searches are needed or for the most up-to-date information, use the tavily_search_func tool.\n",
    "For Complex question, use multiple tools sequentially.\n",
    "You should answer information by clearly distinguishing the source of information.\n",
    "\"\"\""
   ]
  },
  {
   "cell_type": "markdown",
   "id": "5e1420d1",
   "metadata": {},
   "source": [
    "### 3. 도구 실행 결과를 종합하여 최종 답변을 생성하는 체인 구현"
   ]
  },
  {
   "cell_type": "code",
   "execution_count": 30,
   "id": "ee84eb68",
   "metadata": {},
   "outputs": [],
   "source": [
    "few_shot_prompt = ChatPromptTemplate.from_messages([\n",
    "    (\"system\", system),\n",
    "    *examples,\n",
    "    (\"human\", \"{user_input}\"),\n",
    "    (\"placeholder\", \"{messages}\"),\n",
    "])\n",
    "\n",
    "# ChatOpenAI 모델 초기화 \n",
    "llm = ChatOpenAI(model=\"gpt-4o-mini\")\n",
    "# llm = ChatOpenAI(\n",
    "#     base_url=\"https://api.groq.com/openai/v1\",\n",
    "#     model=\"meta-llama/llama-4-scout-17b-16e-instruct\",\n",
    "#     temperature=0.3,\n",
    "#     api_key=OPENAI_API_KEY\n",
    "# )\n",
    "\n",
    "# 검색 도구를 직접 LLM에 바인딩 가능\n",
    "tools = [tavily_search_func, wiki_summary, db_search_menu_func]\n",
    "llm_with_tools = llm.bind_tools(tools=tools)\n",
    "\n",
    "# Few-shot 프롬프트를 사용한 체인 구성\n",
    "fewshot_search_chain = few_shot_prompt | llm_with_tools"
   ]
  },
  {
   "cell_type": "code",
   "execution_count": 31,
   "id": "7098043d",
   "metadata": {},
   "outputs": [],
   "source": [
    "@chain\n",
    "def cafe_menu_chain(user_input: str, config: RunnableConfig):\n",
    "    input_ = {\"user_input\": user_input}\n",
    "    ai_msg = fewshot_search_chain.invoke(input_, config=config)\n",
    "\n",
    "    tool_msgs = []\n",
    "    for tool_call in ai_msg.tool_calls:\n",
    "        print(f\"{tool_call['name']}: \\n{tool_call}\")\n",
    "        print(\"-\"*100)\n",
    "\n",
    "        # [tavily_search_func, wiki_summary, db_search_menu_func, db_search_wine_func]\n",
    "        if tool_call[\"name\"] == \"tavily_search_func\":\n",
    "            tool_message = tavily_search_func.invoke(tool_call, config=config)\n",
    "            tool_msgs.append(tool_message)\n",
    "\n",
    "        elif tool_call[\"name\"] == \"wiki_summary\":\n",
    "            tool_message = wiki_summary.invoke(tool_call, config=config)\n",
    "            tool_msgs.append(tool_message)\n",
    "\n",
    "        elif tool_call[\"name\"] == \"db_search_menu_func\":\n",
    "            tool_message = db_search_menu_func.invoke(tool_call, config=config)\n",
    "            tool_msgs.append(tool_message)            \n",
    "\n",
    "    print(\"tool_msgs: \\n\", tool_msgs)\n",
    "    print(\"-\"*100)\n",
    "    return fewshot_search_chain.invoke({**input_, \"messages\": [ai_msg, *tool_msgs]}, config=config)"
   ]
  },
  {
   "cell_type": "code",
   "execution_count": 32,
   "id": "773fe23c",
   "metadata": {},
   "outputs": [
    {
     "name": "stdout",
     "output_type": "stream",
     "text": [
      "db_search_menu_func: \n",
      "{'name': 'db_search_menu_func', 'args': {'query': '카페라떼 디저트'}, 'id': 'call_XwpLRwQJlRKjvkC4hvQNTL7t', 'type': 'tool_call'}\n",
      "----------------------------------------------------------------------------------------------------\n",
      "wiki_summary: \n",
      "{'name': 'wiki_summary', 'args': {'query': '카페라떼의 유래'}, 'id': 'call_cF8W1R1NixHA16UFYDGGexys', 'type': 'tool_call'}\n",
      "----------------------------------------------------------------------------------------------------\n",
      "tool_msgs: \n",
      " [ToolMessage(content=\"[Document(id='a22f2920-1940-49bf-983d-e3aa0c4f3813', metadata={'source': '../data/cafe_menu_data.txt', 'menu_number': 2, 'menu_name': '카페라떼'}, page_content='2. 카페라떼\\\\n   • 가격: ₩5,500\\\\n   • 주요 원료: 에스프레소, 스팀 밀크\\\\n   • 설명: 진한 에스프레소에 부드럽게 스팀한 우유를 넣어 만든 대표적인 밀크 커피입니다. 크리미한 질감과 부드러운 맛이 특징이며, 다양한 시럽과 토핑 추가가 가능합니다. 라떼 아트로 시각적 즐거움도 제공합니다.'), Document(id='0adb659a-f0ec-4a4a-aaff-21a40d00227d', metadata={'source': '../data/cafe_menu_data.txt', 'menu_number': 4, 'menu_name': '바닐라 라떼'}, page_content='4. 바닐라 라떼\\\\n   • 가격: ₩6,000\\\\n   • 주요 원료: 에스프레소, 스팀 밀크, 바닐라 시럽\\\\n   • 설명: 카페라떼에 달콤한 바닐라 시럽을 더한 인기 메뉴입니다. 바닐라의 달콤함과 커피의 쌉싸름함이 조화롭게 어우러지며, 휘핑크림 토핑으로 더욱 풍성한 맛을 즐길 수 있습니다.'), Document(id='6fdaa9ba-fd1c-4e10-96e7-605d95e81350', metadata={'source': '../data/cafe_menu_data.txt', 'menu_number': 5, 'menu_name': '카라멜 마키아토'}, page_content='5. 카라멜 마키아토\\\\n   • 가격: ₩6,500\\\\n   • 주요 원료: 에스프레소, 스팀 밀크, 카라멜 시럽, 휘핑크림\\\\n   • 설명: 스팀 밀크 위에 에스프레소를 부어 만든 후 카라멜 시럽과 휘핑크림으로 마무리한 달콤한 커피입니다. 카라멜의 진한 단맛과 커피의 깊은 맛이 조화를 이루며, 시각적으로도 아름다운 층을 형성합니다.'), Document(id='acbd8686-3014-42ac-aefc-cf5ea180b481', metadata={'source': '../data/cafe_menu_data.txt', 'menu_number': 8, 'menu_name': '녹차 라떼'}, page_content='8. 녹차 라떼\\\\n   • 가격: ₩5,800\\\\n   • 주요 원료: 말차 파우더, 스팀 밀크, 설탕\\\\n   • 설명: 고급 말차 파우더와 부드러운 스팀 밀크로 만든 건강한 음료입니다. 녹차의 은은한 쓴맛과 우유의 부드러움이 조화를 이루며, 항산화 성분이 풍부합니다. 달콤함 조절이 가능합니다.')]\", name='db_search_menu_func', tool_call_id='call_XwpLRwQJlRKjvkC4hvQNTL7t'), ToolMessage(content=\"Page: 카페 라떼\\nSummary: 카페 라테(이탈리아어: caffè latte, 문화어: 카페 라떼)는 에스프레소에 뜨거운 우유를 곁들인 커피 음료이다. '커피와 우유'를 뜻하는 이탈리아어 caffè e latte에서 유래했다. 차이, 말차, 모카 등으로 다양하게 변형된다. 아이스 라테의 경우 얼음과 함께 갈아서 제공되기도 한다. 카푸치노와 유사하나, 카푸치노는 에스프레소, 스팀 우유, 우유 거품의 비율이 1:1:1인 반면 카페 라테는 에스프레소와 스팀 우유의 비율이 1:2이고 거품이 적다. 이탈리아에서는 주로 아침에 마신다.그리고 사람들은 보통 카페라떼로 아는데 이것은 올바르지 않다.\\n\\nPage: 커피\\nSummary: 커피(영어: coffee, 咖啡, 珈琲, 가배, 문화어: 흑차, 검은차), 커피차 또는 커피음료(영어: coffee beverage)는 커피 나무 열매의 씨(커피콩)를 볶아 가루로 낸 것을 따뜻한 물과 차가운 물 또는 증기로 우려내어 마시는, 쓴맛이 나는 짙은 갈색의 음료이다.\\n색이 어둡고 쓴맛이 있으며 약산성인 커피는 주로 카페인 함량으로 인해 인간에게 자극 효과를 준다. 전세계 뜨거운 음료 시장에서 가장 높은 판매량을 기록하고 있다.\\n커피나무 열매의 씨앗을 분리하여 볶지 않은 녹색 커피콩을 생산한다. 원두를 로스팅한 다음 일반적으로 뜨거운 물에 담근 후 미세한 입자로 갈아서 걸러내어 커피 한 잔을 만든다. 일반적으로 뜨겁게 제공되지만 차가운 아이스 커피가 일반적이다. 커피는 다양한 방법으로 준비되고 제공될 수 있다(예: 에스프레소, 프렌치 프레스, 카페 라떼 또는 이미 끓인 캔커피). 쓴맛을 가리거나 풍미를 강화하기 위해 설탕, 설탕 대체물, 우유, 크림을 첨가하는 경우가 많다.\\n커피는 이제 세계적인 상품이 되었지만 홍해 주변의 음식 전통과 밀접하게 연관되어 있는 오랜 역사를 가지고 있다. 현대 음료로서 커피를 마시는 것에 대한 가장 신뢰할 수 있는 증거는 15세기 중반 아라비아 남부의 현대 예멘 수피 사원에서 나타난다. 그곳에서 커피 씨앗은 현재 준비되는 방식과 유사한 방식으로 처음으로 로스팅되고 양조되었다. 커피 원두는 소말리아 해안 중개인을 통해 에티오피아고원의 예멘인이 조달하여 예멘에서 재배했다. 16세기에 이 음료는 중동과 북아프리카의 나머지 지역으로 퍼져나갔고 나중에 유럽으로 퍼졌다.\\n가장 일반적으로 재배되는 두 가지 커피 콩 유형은 C. 아라비카와 C. 로부스타이다. 커피나무는 70여 개국, 주로 아메리카 대륙, 동남아시아, 인도 아대륙, 아프리카의 적도 지역에서 재배된다. 2018년 기준으로 브라질은 세계 커피 원두 생산량의 35%를 생산하는 주요 커피 생산국이었다. 볶지 않은 녹색 커피는 농산물로 거래된다. 전 세계적으로 커피 판매량은 수십억 달러에 달하지만, 커피 원두를 생산하는 농부들은 불균형적으로 빈곤 속에 살고 있다. 커피 산업을 비판하는 사람들은 커피 재배와 물 사용을 위한 토지 개간과 환경에 대한 부정적인 영향도 지적했다.\\n\\nPage: 대한민국의 인터넷 신조어 목록\\nSummary: 대한민국의 인터넷 신조어는 대한민국의 인터넷 사용자인 네티즌 사이 및 사회에서 주로 쓰는 말이다. 즉, 인터넷 밈의 일종이지만, 빠르게 생성되고 소멸되기 때문에 공식적인 한국어에는 등재되지 않은 말들이다.\", name='wiki_summary', tool_call_id='call_cF8W1R1NixHA16UFYDGGexys')]\n",
      "----------------------------------------------------------------------------------------------------\n",
      "('카페라떼에 어울리는 디저트로는 **티라미수, 초콜릿 케이크**, 또는 **과일타르트**와 같은 부드럽고 달콤한 디저트를 추천합니다. '\n",
      " '이러한 디저트들은 카페라떼의 크리미한 맛과 잘 어울립니다.\\n'\n",
      " '\\n'\n",
      " '카페라떼의 유래는 다음과 같습니다:\\n'\n",
      " '\\n'\n",
      " \"- **카페라떼**는 이탈리아어로 '우유가 섞인 커피' 라는 뜻입니다. 카페라떼는 에스프레소에 뜨거운 우유를 섞고, 우유 거품을 얹은 \"\n",
      " '음료로, 20세기 초 이탈리아에서 이름이 붙여졌습니다. 카페라떼는 보통 에스프레소와 스팀우유가 1:2 비율로 혼합되어 있으며, 커피의 '\n",
      " '강한 맛을 부드러운 우유가 감싸주는 특징이 있습니다. \\n'\n",
      " '\\n'\n",
      " '이상입니다! 궁금한 점이 있다면 언제든지 질문해주세요.')\n"
     ]
    }
   ],
   "source": [
    "# 체인 실행\n",
    "query = \"카페라떼와 어울리는 디저트는 무엇인가요? 그리고 라떼의 유래에 대해서도 알려주세요.\"\n",
    "response = cafe_menu_chain.invoke(query)\n",
    "\n",
    "# 결과 출력\n",
    "for tool_call in response.tool_calls:\n",
    "    print(tool_call)\n",
    "\n",
    "# 응답 출력 \n",
    "pprint(response.content)"
   ]
  }
 ],
 "metadata": {
  "kernelspec": {
   "display_name": "langchain-basic-kGdHTiMZ-py3.12",
   "language": "python",
   "name": "python3"
  },
  "language_info": {
   "codemirror_mode": {
    "name": "ipython",
    "version": 3
   },
   "file_extension": ".py",
   "mimetype": "text/x-python",
   "name": "python",
   "nbconvert_exporter": "python",
   "pygments_lexer": "ipython3",
   "version": "3.12.7"
  }
 },
 "nbformat": 4,
 "nbformat_minor": 5
}
